{
 "cells": [
  {
   "cell_type": "code",
   "execution_count": 13,
   "metadata": {
    "ExecuteTime": {
     "end_time": "2024-06-18T12:37:11.796720Z",
     "start_time": "2024-06-18T12:37:11.782497Z"
    }
   },
   "outputs": [],
   "source": [
    "import pandas as pd\n",
    "import torch\n",
    "\n",
    "from predict import Bearing_Predictor\n",
    "from predict import calculate_data"
   ]
  },
  {
   "cell_type": "code",
   "execution_count": 14,
   "metadata": {
    "ExecuteTime": {
     "end_time": "2024-06-18T12:37:11.827588Z",
     "start_time": "2024-06-18T12:37:11.797722Z"
    }
   },
   "outputs": [
    {
     "data": {
      "text/plain": "Bearing_Predictor(\n  (prenet): Linear(in_features=18, out_features=18, bias=True)\n  (encoderlayer): TransformerEncoderLayer(\n    (self_attn): MultiheadAttention(\n      (out_proj): NonDynamicallyQuantizableLinear(in_features=18, out_features=18, bias=True)\n    )\n    (linear1): Linear(in_features=18, out_features=256, bias=True)\n    (dropout): Dropout(p=0.1, inplace=False)\n    (linear2): Linear(in_features=256, out_features=18, bias=True)\n    (norm1): LayerNorm((18,), eps=1e-05, elementwise_affine=True)\n    (norm2): LayerNorm((18,), eps=1e-05, elementwise_affine=True)\n    (dropout1): Dropout(p=0.1, inplace=False)\n    (dropout2): Dropout(p=0.1, inplace=False)\n  )\n  (encoder): TransformerEncoder(\n    (layers): ModuleList(\n      (0-5): 6 x TransformerEncoderLayer(\n        (self_attn): MultiheadAttention(\n          (out_proj): NonDynamicallyQuantizableLinear(in_features=18, out_features=18, bias=True)\n        )\n        (linear1): Linear(in_features=18, out_features=256, bias=True)\n        (dropout): Dropout(p=0.1, inplace=False)\n        (linear2): Linear(in_features=256, out_features=18, bias=True)\n        (norm1): LayerNorm((18,), eps=1e-05, elementwise_affine=True)\n        (norm2): LayerNorm((18,), eps=1e-05, elementwise_affine=True)\n        (dropout1): Dropout(p=0.1, inplace=False)\n        (dropout2): Dropout(p=0.1, inplace=False)\n      )\n    )\n  )\n  (decoder): Sequential(\n    (0): Linear(in_features=18, out_features=18, bias=True)\n    (1): ReLU()\n    (2): Linear(in_features=18, out_features=1, bias=True)\n  )\n)"
     },
     "execution_count": 14,
     "metadata": {},
     "output_type": "execute_result"
    }
   ],
   "source": [
    "num_heads = 2\n",
    "num_encoder_layers = 6\n",
    "dim_feedforward = 256\n",
    "dropout = 0.1\n",
    "#模型创建\n",
    "model_lodar = Bearing_Predictor(\n",
    "    feature_dim=18,\n",
    "    num_heads=num_heads,\n",
    "    num_encoder_layers=num_encoder_layers,\n",
    "    dim_feedforward=dim_feedforward,\n",
    "    dropout=dropout,\n",
    ")\n",
    "# model_lodar.load_state_dict(torch.load(\"bearing_predictor.pth\",map_location='cpu'))\n",
    "\n",
    "model_lodar = torch.load('bearing_predictor.pth')\n",
    "model_lodar.eval()"
   ]
  },
  {
   "cell_type": "code",
   "execution_count": 15,
   "metadata": {
    "ExecuteTime": {
     "end_time": "2024-06-18T12:37:11.842703Z",
     "start_time": "2024-06-18T12:37:11.828523Z"
    }
   },
   "outputs": [
    {
     "data": {
      "text/plain": "      hour  minute  second     micro  Horizontal_acceleration  \\\n0        9      39      39   65664.0                    0.552   \n1        9      39      39   65703.0                    0.501   \n2        9      39      39   65742.0                    0.138   \n3        9      39      39   65781.0                   -0.423   \n4        9      39      39   65820.0                   -0.802   \n...    ...     ...     ...       ...                      ...   \n2555     9      39      39  165470.0                    0.044   \n2556     9      39      39  165510.0                   -0.456   \n2557     9      39      39  165550.0                   -0.885   \n2558     9      39      39  165580.0                   -0.230   \n2559     9      39      39  165620.0                   -0.134   \n\n      Vertical_acceleration  \n0                    -0.146  \n1                    -0.480  \n2                     0.435  \n3                     0.240  \n4                     0.020  \n...                     ...  \n2555                 -0.094  \n2556                  0.486  \n2557                 -0.154  \n2558                 -0.762  \n2559                  0.541  \n\n[2560 rows x 6 columns]",
      "text/html": "<div>\n<style scoped>\n    .dataframe tbody tr th:only-of-type {\n        vertical-align: middle;\n    }\n\n    .dataframe tbody tr th {\n        vertical-align: top;\n    }\n\n    .dataframe thead th {\n        text-align: right;\n    }\n</style>\n<table border=\"1\" class=\"dataframe\">\n  <thead>\n    <tr style=\"text-align: right;\">\n      <th></th>\n      <th>hour</th>\n      <th>minute</th>\n      <th>second</th>\n      <th>micro</th>\n      <th>Horizontal_acceleration</th>\n      <th>Vertical_acceleration</th>\n    </tr>\n  </thead>\n  <tbody>\n    <tr>\n      <th>0</th>\n      <td>9</td>\n      <td>39</td>\n      <td>39</td>\n      <td>65664.0</td>\n      <td>0.552</td>\n      <td>-0.146</td>\n    </tr>\n    <tr>\n      <th>1</th>\n      <td>9</td>\n      <td>39</td>\n      <td>39</td>\n      <td>65703.0</td>\n      <td>0.501</td>\n      <td>-0.480</td>\n    </tr>\n    <tr>\n      <th>2</th>\n      <td>9</td>\n      <td>39</td>\n      <td>39</td>\n      <td>65742.0</td>\n      <td>0.138</td>\n      <td>0.435</td>\n    </tr>\n    <tr>\n      <th>3</th>\n      <td>9</td>\n      <td>39</td>\n      <td>39</td>\n      <td>65781.0</td>\n      <td>-0.423</td>\n      <td>0.240</td>\n    </tr>\n    <tr>\n      <th>4</th>\n      <td>9</td>\n      <td>39</td>\n      <td>39</td>\n      <td>65820.0</td>\n      <td>-0.802</td>\n      <td>0.020</td>\n    </tr>\n    <tr>\n      <th>...</th>\n      <td>...</td>\n      <td>...</td>\n      <td>...</td>\n      <td>...</td>\n      <td>...</td>\n      <td>...</td>\n    </tr>\n    <tr>\n      <th>2555</th>\n      <td>9</td>\n      <td>39</td>\n      <td>39</td>\n      <td>165470.0</td>\n      <td>0.044</td>\n      <td>-0.094</td>\n    </tr>\n    <tr>\n      <th>2556</th>\n      <td>9</td>\n      <td>39</td>\n      <td>39</td>\n      <td>165510.0</td>\n      <td>-0.456</td>\n      <td>0.486</td>\n    </tr>\n    <tr>\n      <th>2557</th>\n      <td>9</td>\n      <td>39</td>\n      <td>39</td>\n      <td>165550.0</td>\n      <td>-0.885</td>\n      <td>-0.154</td>\n    </tr>\n    <tr>\n      <th>2558</th>\n      <td>9</td>\n      <td>39</td>\n      <td>39</td>\n      <td>165580.0</td>\n      <td>-0.230</td>\n      <td>-0.762</td>\n    </tr>\n    <tr>\n      <th>2559</th>\n      <td>9</td>\n      <td>39</td>\n      <td>39</td>\n      <td>165620.0</td>\n      <td>-0.134</td>\n      <td>0.541</td>\n    </tr>\n  </tbody>\n</table>\n<p>2560 rows × 6 columns</p>\n</div>"
     },
     "execution_count": 15,
     "metadata": {},
     "output_type": "execute_result"
    }
   ],
   "source": [
    "f = open(r\"phm-ieee-2012-data-challenge-dataset-master\\Learning_set\\Bearing1_1\\acc_00001.csv\", encoding=\"utf-8\")\n",
    "data_reader = pd.read_csv(f, header=None)\n",
    "data_reader.columns = [\n",
    "    \"hour\",\n",
    "    \"minute\",\n",
    "    \"second\",\n",
    "    \"micro\",\n",
    "    \"Horizontal_acceleration\",\n",
    "    \"Vertical_acceleration\",\n",
    "]\n",
    "data = data_reader.copy()\n",
    "data"
   ]
  },
  {
   "cell_type": "code",
   "outputs": [
    {
     "data": {
      "text/plain": "tensor([[ 1.9213e-01,  5.6040e-02,  3.1400e-03,  4.4897e-02,  3.5158e-01,\n          3.8214e-02, -1.0054e-01,  1.2172e-01,  1.2482e+00,  3.4284e+00,\n          4.2794e+00,  5.0277e+00,  8.1654e+00,  1.8896e-05,  4.6513e-07,\n          2.8575e+00,  5.1470e-05,  1.8883e-05],\n        [ 2.0373e-01,  5.1085e-02,  2.6094e-03,  3.9085e-02,  3.5274e-01,\n          3.2246e-02,  8.0760e-01,  3.5112e-01,  1.3070e+00,  3.9881e+00,\n          5.2125e+00,  6.3181e+00,  6.7852e+00,  1.8896e-05,  4.6513e-07,\n          2.6048e+00,  4.6696e-05,  1.8886e-05],\n        [ 2.0714e-01,  5.2152e-02,  2.7194e-03,  4.1649e-02,  3.6075e-01,\n          3.5429e-02,  1.0262e-01,  1.7012e-01,  1.2522e+00,  3.9717e+00,\n          4.9733e+00,  5.8465e+00,  7.0716e+00,  1.8896e-05,  4.6513e-07,\n          2.6593e+00,  4.7681e-05,  1.8885e-05],\n        [ 1.8287e-01,  5.4439e-02,  2.9635e-03,  4.2797e-02,  3.4518e-01,\n          3.5734e-02,  8.2685e-02,  1.3272e-01,  1.2720e+00,  3.3592e+00,\n          4.2730e+00,  5.1175e+00,  7.7053e+00,  1.8896e-05,  4.6513e-07,\n          2.7758e+00,  4.9963e-05,  1.8891e-05],\n        [ 1.6117e-01,  5.2862e-02,  2.7935e-03,  4.2272e-02,  3.6138e-01,\n          3.5924e-02,  1.0841e-01, -5.3771e-04,  1.2505e+00,  3.0490e+00,\n          3.8128e+00,  4.4866e+00,  7.2654e+00,  1.8896e-05,  4.6513e-07,\n          2.6954e+00,  4.8404e-05,  1.8880e-05],\n        [ 2.0957e-01,  5.4773e-02,  3.0000e-03,  4.3783e-02,  3.6388e-01,\n          3.7123e-02,  5.9266e-02,  1.3757e-01,  1.2510e+00,  3.8261e+00,\n          4.7865e+00,  5.6451e+00,  7.8001e+00,  1.8896e-05,  4.6513e-07,\n          2.7929e+00,  5.0104e-05,  1.8892e-05],\n        [ 1.7616e-01,  5.0280e-02,  2.5280e-03,  4.0549e-02,  3.1500e-01,\n          3.4593e-02, -1.5321e-01,  1.5155e-01,  1.2400e+00,  3.5037e+00,\n          4.3445e+00,  5.0925e+00,  6.5730e+00,  1.8896e-05,  4.6513e-07,\n          2.5638e+00,  4.5810e-05,  1.8891e-05],\n        [ 1.7774e-01,  5.6528e-02,  3.1954e-03,  4.5067e-02,  3.7494e-01,\n          3.8384e-02,  1.1272e-01,  5.8956e-02,  1.2543e+00,  3.1444e+00,\n          3.9440e+00,  4.6306e+00,  8.3080e+00,  1.8896e-05,  4.6513e-07,\n          2.8824e+00,  5.2039e-05,  1.8894e-05],\n        [ 1.7954e-01,  5.6807e-02,  3.2270e-03,  4.6330e-02,  3.3323e-01,\n          3.9982e-02, -2.5470e-01,  8.7985e-02,  1.2261e+00,  3.1606e+00,\n          3.8753e+00,  4.4905e+00,  8.3902e+00,  1.8896e-05,  4.6513e-07,\n          2.8966e+00,  5.2238e-05,  1.8895e-05],\n        [ 1.8463e-01,  5.0137e-02,  2.5134e-03,  3.9466e-02,  3.6045e-01,\n          3.3320e-02,  4.0236e-01,  1.6017e-01,  1.2704e+00,  3.6826e+00,\n          4.6783e+00,  5.5411e+00,  6.5357e+00,  1.8896e-05,  4.6513e-07,\n          2.5565e+00,  4.5659e-05,  1.8887e-05]])"
     },
     "execution_count": 16,
     "metadata": {},
     "output_type": "execute_result"
    }
   ],
   "source": [
    "reason_data = pd.read_csv('datas/轴承A.csv', encoding=\"gbk\")\n",
    "reason_data = reason_data.copy().drop(columns=['X轴加速度(g)', 'Y轴加速度(g)', '采样频率(Hz)']).rename(\n",
    "    columns={'Z轴加速度(g)': 'Vertical_acceleration'})\n",
    "data_seq = []\n",
    "for i in range(0, 10):\n",
    "    data_seq.append(calculate_data(reason_data[i * 2600:(i + 1) * 2600], freq=1 / 26471))  #分10次取2600条样本\n",
    "bearing_data_sequence = torch.stack(data_seq, dim=0).float()\n",
    "bearing_data_sequence"
   ],
   "metadata": {
    "collapsed": false,
    "ExecuteTime": {
     "end_time": "2024-06-18T12:37:11.950211Z",
     "start_time": "2024-06-18T12:37:11.843746Z"
    }
   },
   "execution_count": 16
  },
  {
   "cell_type": "code",
   "execution_count": 17,
   "metadata": {
    "ExecuteTime": {
     "end_time": "2024-06-18T12:37:11.965980Z",
     "start_time": "2024-06-18T12:37:11.951215Z"
    }
   },
   "outputs": [],
   "source": [
    "bearing_data_sequence = bearing_data_sequence.unsqueeze(0)\n",
    "pridict = model_lodar(bearing_data_sequence)  #传入数据的结构是什么"
   ]
  },
  {
   "cell_type": "code",
   "outputs": [
    {
     "data": {
      "text/plain": "tensor([[[0.7811]],\n\n        [[0.7799]],\n\n        [[0.7771]],\n\n        [[0.7814]],\n\n        [[0.7826]],\n\n        [[0.7791]],\n\n        [[0.7779]],\n\n        [[0.7836]],\n\n        [[0.7824]],\n\n        [[0.7794]]], grad_fn=<ViewBackward0>)"
     },
     "execution_count": 18,
     "metadata": {},
     "output_type": "execute_result"
    }
   ],
   "source": [
    "pridict"
   ],
   "metadata": {
    "collapsed": false,
    "ExecuteTime": {
     "end_time": "2024-06-18T12:37:11.981302Z",
     "start_time": "2024-06-18T12:37:11.966985Z"
    }
   },
   "execution_count": 18
  }
 ],
 "metadata": {
  "kernelspec": {
   "display_name": "Python 3",
   "language": "python",
   "name": "python3"
  },
  "language_info": {
   "codemirror_mode": {
    "name": "ipython",
    "version": 3
   },
   "file_extension": ".py",
   "mimetype": "text/x-python",
   "name": "python",
   "nbconvert_exporter": "python",
   "pygments_lexer": "ipython3",
   "version": "3.11.9"
  }
 },
 "nbformat": 4,
 "nbformat_minor": 2
}
